{
  "nbformat": 4,
  "nbformat_minor": 0,
  "metadata": {
    "colab": {
      "name": "Clase 04 agosto",
      "provenance": [],
      "collapsed_sections": []
    },
    "kernelspec": {
      "name": "python3",
      "display_name": "Python 3"
    },
    "language_info": {
      "name": "python"
    }
  },
  "cells": [
    {
      "cell_type": "markdown",
      "metadata": {
        "id": "6bo6o3zARO87"
      },
      "source": [
        "#**Repaso any y all**"
      ]
    },
    {
      "cell_type": "markdown",
      "metadata": {
        "id": "QAD9AmKMRO2z"
      },
      "source": [
        ""
      ]
    },
    {
      "cell_type": "code",
      "metadata": {
        "colab": {
          "base_uri": "https://localhost:8080/"
        },
        "id": "5ys9wnuZChfO",
        "outputId": "7929d862-efed-4348-9fbd-ac183c459e3c"
      },
      "source": [
        "lista_valores=[0,0,0]\n",
        "all(lista_valores)\n",
        "#any busca ceros y all busca numeros reales"
      ],
      "execution_count": 2,
      "outputs": [
        {
          "output_type": "execute_result",
          "data": {
            "text/plain": [
              "False"
            ]
          },
          "metadata": {
            "tags": []
          },
          "execution_count": 2
        }
      ]
    },
    {
      "cell_type": "code",
      "metadata": {
        "id": "mpNv4ZW2Cidb",
        "colab": {
          "base_uri": "https://localhost:8080/"
        },
        "outputId": "71125fd7-8c01-4f12-b43c-6281ec0a5943"
      },
      "source": [
        "all([1,2,3,4,5])"
      ],
      "execution_count": 16,
      "outputs": [
        {
          "output_type": "execute_result",
          "data": {
            "text/plain": [
              "True"
            ]
          },
          "metadata": {
            "tags": []
          },
          "execution_count": 16
        }
      ]
    },
    {
      "cell_type": "code",
      "metadata": {
        "id": "57QZ-qdBNqHX"
      },
      "source": [
        "lista_strings=['a','b','c','d',' ']"
      ],
      "execution_count": 10,
      "outputs": []
    },
    {
      "cell_type": "code",
      "metadata": {
        "colab": {
          "base_uri": "https://localhost:8080/"
        },
        "id": "paNbloqON5VR",
        "outputId": "76eb5369-1fe1-4773-a5d3-196e2e02cfb7"
      },
      "source": [
        "all(lista_strings)"
      ],
      "execution_count": 11,
      "outputs": [
        {
          "output_type": "execute_result",
          "data": {
            "text/plain": [
              "True"
            ]
          },
          "metadata": {
            "tags": []
          },
          "execution_count": 11
        }
      ]
    },
    {
      "cell_type": "code",
      "metadata": {
        "colab": {
          "base_uri": "https://localhost:8080/"
        },
        "id": "f4Sbuo4bN-yi",
        "outputId": "f998a3e2-5b2a-4976-ac42-dc52f35dea18"
      },
      "source": [
        "print (2==2 or 3==3)"
      ],
      "execution_count": 12,
      "outputs": [
        {
          "output_type": "stream",
          "text": [
            "True\n"
          ],
          "name": "stdout"
        }
      ]
    },
    {
      "cell_type": "code",
      "metadata": {
        "colab": {
          "base_uri": "https://localhost:8080/"
        },
        "id": "YENsFyiSObjZ",
        "outputId": "3561da84-3e54-4082-e1c8-d000441cf039"
      },
      "source": [
        "print(2==2 or 3==4 or 5==1)"
      ],
      "execution_count": 13,
      "outputs": [
        {
          "output_type": "stream",
          "text": [
            "True\n"
          ],
          "name": "stdout"
        }
      ]
    },
    {
      "cell_type": "code",
      "metadata": {
        "colab": {
          "base_uri": "https://localhost:8080/"
        },
        "id": "dq2UOUOdPGei",
        "outputId": "5b7d7236-4675-4c90-e734-9c2ca701854b"
      },
      "source": [
        "print(2==2 and 3==3)"
      ],
      "execution_count": 14,
      "outputs": [
        {
          "output_type": "stream",
          "text": [
            "True\n"
          ],
          "name": "stdout"
        }
      ]
    },
    {
      "cell_type": "code",
      "metadata": {
        "colab": {
          "base_uri": "https://localhost:8080/"
        },
        "id": "6Cc8gL9MPJc8",
        "outputId": "fa15cf94-ea85-4eec-fbd0-4935d304d68e"
      },
      "source": [
        "print(2==2 and 3==4)"
      ],
      "execution_count": 15,
      "outputs": [
        {
          "output_type": "stream",
          "text": [
            "False\n"
          ],
          "name": "stdout"
        }
      ]
    },
    {
      "cell_type": "code",
      "metadata": {
        "colab": {
          "base_uri": "https://localhost:8080/"
        },
        "id": "6-Z92KWpPMwM",
        "outputId": "069a2ba5-5556-4ee6-f47b-fe23ab9042a6"
      },
      "source": [
        "lista=[False,False,False,False]\n",
        "any(lista)"
      ],
      "execution_count": 17,
      "outputs": [
        {
          "output_type": "execute_result",
          "data": {
            "text/plain": [
              "False"
            ]
          },
          "metadata": {
            "tags": []
          },
          "execution_count": 17
        }
      ]
    },
    {
      "cell_type": "code",
      "metadata": {
        "colab": {
          "base_uri": "https://localhost:8080/"
        },
        "id": "77WP8EVGPxOR",
        "outputId": "3a3db1a0-c735-4eda-d686-a71fed2ae6f6"
      },
      "source": [
        "old_list=[2,1,3,6,12,3,790,21]\n",
        "list_mod2=list(map(lambda x: x%2 == 0,old_list))\n",
        "any(list_mod2)"
      ],
      "execution_count": 20,
      "outputs": [
        {
          "output_type": "execute_result",
          "data": {
            "text/plain": [
              "True"
            ]
          },
          "metadata": {
            "tags": []
          },
          "execution_count": 20
        }
      ]
    },
    {
      "cell_type": "markdown",
      "metadata": {
        "id": "zOq2Z30aRTtB"
      },
      "source": [
        "#**Búsqueda:**"
      ]
    },
    {
      "cell_type": "code",
      "metadata": {
        "id": "TeqkM3hWQi1X"
      },
      "source": [
        "def linearsearch(items, value):\n",
        "  for i in range(0, len(items)): #O(n)\n",
        "    if items[i] == value:\n",
        "      return i\n",
        "  return -1"
      ],
      "execution_count": 53,
      "outputs": []
    },
    {
      "cell_type": "code",
      "metadata": {
        "colab": {
          "base_uri": "https://localhost:8080/"
        },
        "id": "8pJubVXmTGbC",
        "outputId": "64678632-69eb-46da-e196-9e3f751fb29e"
      },
      "source": [
        "items=[2,4,6,34,25,4]\n",
        "value=34\n",
        "testLS=linearsearch(items,value)\n",
        "print(testLS)"
      ],
      "execution_count": 54,
      "outputs": [
        {
          "output_type": "stream",
          "text": [
            "3\n"
          ],
          "name": "stdout"
        }
      ]
    },
    {
      "cell_type": "code",
      "metadata": {
        "id": "Isp5uQ8gTseu"
      },
      "source": [
        "def linearsearchmul(items, value):\n",
        "  for i in range(0, len(items)):  #O(n)\n",
        "    if items[i] == value:  \n",
        "      print (i)"
      ],
      "execution_count": 75,
      "outputs": []
    },
    {
      "cell_type": "code",
      "metadata": {
        "colab": {
          "base_uri": "https://localhost:8080/"
        },
        "id": "rAUtkVV1Vfwh",
        "outputId": "c7afab56-72b2-4fe1-e142-6feb16e77b96"
      },
      "source": [
        "items=[2,4,34,6,25,34,34]\n",
        "testLSmul=linearsearchmul(items,34)\n",
        "print(testLSmul)"
      ],
      "execution_count": 76,
      "outputs": [
        {
          "output_type": "stream",
          "text": [
            "2\n",
            "5\n",
            "6\n",
            "None\n"
          ],
          "name": "stdout"
        }
      ]
    },
    {
      "cell_type": "code",
      "metadata": {
        "id": "MWaa_hiEWwrQ"
      },
      "source": [
        "#Binary search solo usa listas ordenadas.\n",
        "def binarysearch(items,value):\n",
        "  low = 0\n",
        "  high = len(items)-1\n",
        "  while low <= high:\n",
        "    mid = (high+low)//2\n",
        "    if items[mid] < value:\n",
        "      low = mid + 1\n",
        "    elif items[mid] > value:\n",
        "      high= mid - 1\n",
        "    else:\n",
        "      return mid\n",
        "  return -1"
      ],
      "execution_count": 97,
      "outputs": []
    },
    {
      "cell_type": "code",
      "metadata": {
        "colab": {
          "base_uri": "https://localhost:8080/"
        },
        "id": "0KgTIglXcyHA",
        "outputId": "12203f43-51a6-4da7-a39e-f0b128957952"
      },
      "source": [
        "pruebaBS=[2,4,8,16,32,64]\n",
        "binarysearch(pruebaBS,8)"
      ],
      "execution_count": 98,
      "outputs": [
        {
          "output_type": "execute_result",
          "data": {
            "text/plain": [
              "2"
            ]
          },
          "metadata": {
            "tags": []
          },
          "execution_count": 98
        }
      ]
    },
    {
      "cell_type": "code",
      "metadata": {
        "id": "o4vyLd8DdEUb"
      },
      "source": [
        "def firstelement(items,svalue):\n",
        "  low = 0\n",
        "  high = len(items)-1\n",
        "  res = -1\n",
        "  while low <= high:\n",
        "    mid = (high+low)//2\n",
        "    if items[mid] < svalue:\n",
        "      low = mid + 1\n",
        "    elif items[mid] > svalue:\n",
        "      high= mid - 1\n",
        "    else:\n",
        "      res = mid\n",
        "      high = mid - 1\n",
        "  return res\n",
        "\n",
        "\n",
        "def lastelement(items, svalue):\n",
        "  low = 0\n",
        "  high = len(items)-1\n",
        "  while low <= high:\n",
        "    mid = (high+low)//2\n",
        "    if items[mid] < svalue:\n",
        "      low = mid + 1\n",
        "    elif items[mid] > svalue:\n",
        "      high= mid - 1\n",
        "    else:\n",
        "      res = mid\n",
        "      low = mid + 1\n",
        "  return res"
      ],
      "execution_count": 100,
      "outputs": []
    },
    {
      "cell_type": "code",
      "metadata": {
        "colab": {
          "base_uri": "https://localhost:8080/"
        },
        "id": "V2yHmyzCiJV5",
        "outputId": "48be053d-5ef6-417f-af27-c9741541a8cd"
      },
      "source": [
        "items=[2,3,4,5,5,5,6,7,8,12]\n",
        "print('El primer elemento es: ',firstelement(items,5))\n",
        "print('El segundo elemento es: ',lastelement(items,5))"
      ],
      "execution_count": 104,
      "outputs": [
        {
          "output_type": "stream",
          "text": [
            "El primer elemento es:  3\n",
            "El segundo elemento es:  5\n"
          ],
          "name": "stdout"
        }
      ]
    }
  ]
}
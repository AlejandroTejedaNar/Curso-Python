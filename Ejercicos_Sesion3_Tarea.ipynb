{
  "nbformat": 4,
  "nbformat_minor": 0,
  "metadata": {
    "colab": {
      "name": "Ejercicos_Sesion3_Tarea.ipynb",
      "provenance": [],
      "collapsed_sections": []
    },
    "kernelspec": {
      "name": "python3",
      "display_name": "Python 3"
    },
    "language_info": {
      "name": "python"
    }
  },
  "cells": [
    {
      "cell_type": "markdown",
      "metadata": {
        "id": "ugDMq3vGSMda"
      },
      "source": [
        "#**Ejercicio 1**"
      ]
    },
    {
      "cell_type": "markdown",
      "metadata": {
        "id": "Vb6ZYb2SSR5U"
      },
      "source": [
        "1. Lista vacía.\n",
        "2. Una lista con un solo valor mínimo.\n",
        "3. Una lista cuyos componentes son todos iguales.\n",
        "4. Una lista con numeros negativos, positivos y ceros.\n",
        "5. Una lista anidada."
      ]
    },
    {
      "cell_type": "code",
      "metadata": {
        "id": "6rbHo28RRzjY"
      },
      "source": [
        "#Cuando la lista esta vacía:\n",
        "test1 = {\n",
        "    'input': {\n",
        "        'nums': []\n",
        "    },\n",
        "    'output': None\n",
        "}"
      ],
      "execution_count": 21,
      "outputs": []
    },
    {
      "cell_type": "code",
      "metadata": {
        "id": "7IVeDjg6S7vO"
      },
      "source": [
        "#Cuando la lista tiene un solo valor mínimo:\n",
        "test2 = {\n",
        "    'input': {\n",
        "        'nums': [2,5,6,1,8,7]\n",
        "    },\n",
        "    'output': 1\n",
        "}"
      ],
      "execution_count": 25,
      "outputs": []
    },
    {
      "cell_type": "code",
      "metadata": {
        "id": "rCek8aB_S75L"
      },
      "source": [
        "#Cuando todos los componentes de la lista son iguales:\n",
        "test3 = {\n",
        "    'input': {\n",
        "        'nums': [4,4,4,4,4]\n",
        "    },\n",
        "    'output': 4\n",
        "}"
      ],
      "execution_count": 26,
      "outputs": []
    },
    {
      "cell_type": "code",
      "metadata": {
        "id": "flXjGCrwS8Bh"
      },
      "source": [
        "#Cuando la lista tiene numeros negativos, positivos y ceros:\n",
        "test4 = {\n",
        "    'input': {\n",
        "        'nums': [2,3,-4,0,0,-5,6,-2]\n",
        "    },\n",
        "    'output': -5\n",
        "}"
      ],
      "execution_count": 27,
      "outputs": []
    },
    {
      "cell_type": "code",
      "metadata": {
        "id": "MzZEjeriS8Jk"
      },
      "source": [
        "#Cuando es una lista anidada:\n",
        "test5 = {\n",
        "    'input': {\n",
        "        'nums': [2,3,4,[6,3,1,8,2,6],7,8]\n",
        "    },\n",
        "    'output': 1\n",
        "}"
      ],
      "execution_count": 33,
      "outputs": []
    },
    {
      "cell_type": "markdown",
      "metadata": {
        "id": "jqA8fSZeXWeU"
      },
      "source": [
        "#Explicación:\n",
        "\n",
        "El primer algoritmo va comparando cada numero de la lista con todos los demás , y si alguno es menor lo pasa al lado izquierdo, por lo que por cada pasada completa va dejando en el extremo derecho al numero mayor. Pero debe realizar todas las corridas para terminar el proceso, aunque la lista ya este acomodada desde el inicio o quede realizado en una corrida anterior. Al final imprime el numero menor.\n",
        "\n",
        "#Caso 1:\n",
        "\n",
        "Como la lista esta vacía, no debe acomodar nada, por lo que la solución sería el 0. Aun así realizaría una corrida.\n",
        "\n",
        "#Caso 2:\n",
        "\n",
        "a)2,5,6,1,8,7 compara 5>2, es cierto, así lo dejó.\n",
        "\n",
        "b)2,5,6,1,8,7 compara 6>5, es cierto, así lo dejó.\n",
        "\n",
        "c)2,5,1,6,8,7 compara 1>6, es falso, intercambió el 1 y el 6.\n",
        "\n",
        "d)2,5,1,6,8,7 compara 8>6, es cierto, así lo dejó.\n",
        "\n",
        "e)2,5,1,6,7,8 compara 7>8, es falso, intercambió el 7 y el 8.\n",
        "\n",
        "f)2,5,1,6,7,8 compara 5>2, es cierto, así lo dejó.\n",
        "\n",
        "g)2,1,5,6,7,8 compara 1>5, es falso, intercambió el 1 y el 5.\n",
        "\n",
        "h)2,1,5,6,7,8 compara 6>5, es cierto, así lo dejó.\n",
        "\n",
        "i)2,1,5,6,7,8 compara 7>6, es cierto, así lo dejó.\n",
        "\n",
        "j)2,1,5,6,7,8 compara 8>7, es cierto, así lo dejó.\n",
        "\n",
        "k)1,2,5,6,7,8 compara 1>2, es falso, intercambió el 1 y el 2.\n",
        "\n",
        "l)1,2,5,6,7,8 compara 5>2, es cierto,así lo dejó.\n",
        "\n",
        "m)1,2,5,6,7,8 compara 6>5, es cierto,así lo dejó.\n",
        "\n",
        "n)1,2,5,6,7,8 compara 7>6, es cierto,así lo dejó.\n",
        "\n",
        "o)1,2,5,6,7,8 compara 8>7, es cierto,así lo dejó.\n",
        "\n",
        "p)Imprime el 1 que es el número menor.\n",
        "\n",
        "#Caso 3:\n",
        "\n",
        "a) Compara 4>4, es falso, los intercambia. Sigue el mismo proceso hasta el ultimo par de 4, pero como son los mismo numeros, ahpi termina el proceso. Ya que ha comparado todos los números.\n",
        "\n",
        "b)Imprime el 4, que es el número menor.\n",
        "\n",
        "#Caso 4:\n",
        "\n",
        "a)2,3,-4,0,0,-5,6,-2 compara 3>2, es cierto, así lo dejó.\n",
        "\n",
        "b)2,-4,3,0,0,-5,6,-2 compara -4>3, es falto, los intercambió.\n",
        "\n",
        "c)2,-4,0,3,0,-5,6,-2 compara 0>3, es falso, los intercambió.\n",
        "\n",
        "d)2,-4,0,0,3,-5,6,-2 compara 0>3, es falso, los intercambió.\n",
        "\n",
        "e)2,-4,0,0,-5,3,6,-2 compara -5>3 es falso. los intercambió.\n",
        "\n",
        "f)Así continua hasta llegar a -5,-4-2,0,0,2,3,6.\n",
        "\n",
        "g)Imprime el -5 que es el número menor.\n",
        "\n",
        "#Caso 5:\n",
        "\n",
        "a)Primero debe buscar cual es la lista anidada, una vez que lo hace, continua el proceso.\n",
        "\n",
        "b)3,6,1,8,2,6 compara 3>6, es falso, los intercambió.\n",
        "\n",
        "c)3,1,6,8,2,6 compara 1>6, es falso, los intercambió.\n",
        "\n",
        "d)3,1,6,8,2,6 compara 8>6, es cierto, así lo dejó.\n",
        "\n",
        "e)3,1,6,2,8,6 compara 2>8, es falso, los intercambió.\n",
        "\n",
        "f)3,1,6,2,6,8 compara 6>8, es falso, los intercambió.\n",
        "\n",
        "g) Así continua hasta llegar a 1,2,3,6,6,8.\n",
        "\n",
        "h) Imprime el 1 que es el número menor."
      ]
    },
    {
      "cell_type": "code",
      "metadata": {
        "id": "3UPB-xUTbr8G"
      },
      "source": [
        "def findMin(alist):\n",
        "  if alist==[]:\n",
        "    valor_minimo = 0\n",
        "  else:\n",
        "    minimo = alist[0]\n",
        "    for i in alist:\n",
        "      valor_minimo = True\n",
        "      for j in alist:\n",
        "        if i > j :\n",
        "         valor_minimo = False\n",
        "      if valor_minimo:\n",
        "       minimo = i\n",
        "    return minimo\n",
        "\n",
        "####Worst Case"
      ],
      "execution_count": 19,
      "outputs": []
    },
    {
      "cell_type": "code",
      "metadata": {
        "colab": {
          "base_uri": "https://localhost:8080/"
        },
        "id": "I4fbg_ZzoiwT",
        "outputId": "83aa4f51-20a8-40f6-8e58-3c9ae489df30"
      },
      "source": [
        "#Caso 1:\n",
        "findMin(test1['input']['nums'])\n",
        "print(findMin(test1['input']['nums']) == test1['output'])"
      ],
      "execution_count": 22,
      "outputs": [
        {
          "output_type": "stream",
          "text": [
            "None\n",
            "True\n"
          ],
          "name": "stdout"
        }
      ]
    },
    {
      "cell_type": "code",
      "metadata": {
        "colab": {
          "base_uri": "https://localhost:8080/"
        },
        "id": "hozo5Au6qvM3",
        "outputId": "6d5bdba3-a09d-44e3-8011-49e883b10351"
      },
      "source": [
        "#Caso 2:\n",
        "findMin(test2['input']['nums'])\n",
        "print(findMin(test2['input']['nums']) == test2['output'])"
      ],
      "execution_count": 29,
      "outputs": [
        {
          "output_type": "stream",
          "text": [
            "1\n",
            "True\n"
          ],
          "name": "stdout"
        }
      ]
    },
    {
      "cell_type": "code",
      "metadata": {
        "colab": {
          "base_uri": "https://localhost:8080/"
        },
        "id": "ECwjjkH5rUeJ",
        "outputId": "a9ab5d4a-7047-4f9b-88a4-2b96903403d6"
      },
      "source": [
        "#Caso 3:\n",
        "findMin(test3['input']['nums'])\n",
        "print(findMin(test3['input']['nums']) == test3['output'])"
      ],
      "execution_count": 30,
      "outputs": [
        {
          "output_type": "stream",
          "text": [
            "True\n"
          ],
          "name": "stdout"
        }
      ]
    },
    {
      "cell_type": "code",
      "metadata": {
        "colab": {
          "base_uri": "https://localhost:8080/"
        },
        "id": "P1yPngIcraAO",
        "outputId": "13ef460a-3d27-4fa2-d36a-c56536277203"
      },
      "source": [
        "#Caso 4:\n",
        "findMin(test4['input']['nums'])\n",
        "print(findMin(test4['input']['nums']) == test4['output'])"
      ],
      "execution_count": 31,
      "outputs": [
        {
          "output_type": "stream",
          "text": [
            "True\n"
          ],
          "name": "stdout"
        }
      ]
    },
    {
      "cell_type": "code",
      "metadata": {
        "id": "F7XMJhOesNzO"
      },
      "source": [
        "def findMin2(alist):\n",
        "  if alist==[]:\n",
        "    valor_minimo = 0\n",
        "  else:\n",
        "    for index in alist:\n",
        "      if type(index) == list:\n",
        "        minimo = index[0]\n",
        "        for i in index:\n",
        "          valor_minimo = True\n",
        "          for j in index:\n",
        "            if i > j :\n",
        "              valor_minimo = False\n",
        "          if valor_minimo:\n",
        "           minimo = i\n",
        "        return minimo\n",
        "#Aumenta el termino dominante a n^3"
      ],
      "execution_count": 80,
      "outputs": []
    },
    {
      "cell_type": "code",
      "metadata": {
        "colab": {
          "base_uri": "https://localhost:8080/"
        },
        "id": "0M9-0WeIr7Ja",
        "outputId": "dd92d131-3a1f-46ae-ef33-e608eef732cb"
      },
      "source": [
        "#Caso 5:\n",
        "findMin2(test5['input']['nums'])\n",
        "print(findMin2(test5['input']['nums']) == test5['output'])"
      ],
      "execution_count": 81,
      "outputs": [
        {
          "output_type": "stream",
          "text": [
            "True\n"
          ],
          "name": "stdout"
        }
      ]
    },
    {
      "cell_type": "markdown",
      "metadata": {
        "id": "l3ARBafxxqRM"
      },
      "source": [
        "#**Explicación:**\n",
        "\n",
        "El segundo algoritmo va reemplazando los numeros que ya comparó por la ubicación inicial de la lista, pero se detendrá al encontrar un numero que ya sea menor a todos, por lo que acaba más rápido.\n",
        "\n",
        "Veamos un ejemplo con el **Caso 2**:\n",
        "\n",
        "a)2,5,6,1,8,7 compara 2< 2 , es falso, así lo dejó.\n",
        "\n",
        "b)2,5,6,1,8,7 compara 5< 2, es falso, así lo dejó.\n",
        "\n",
        "c)2,5,6,1,8,7 compara 6< 2, es falso, así lo dejó.\n",
        "\n",
        "d)1,5,6,2,8,7 compara 1< 2, es cierto, los intercambia.\n",
        "\n",
        "e)2,5,6,1,8,7 compara 8< 1, es falso, así lo dejó.\n",
        "\n",
        "h)2,5,6,1,8,7 compara 7< 2, es falso, así lo dejó.\n",
        "\n",
        "i)Imprime el 1 que es el número menor"
      ]
    },
    {
      "cell_type": "code",
      "metadata": {
        "id": "HePB3IRl2WHf"
      },
      "source": [
        "def findMinOptimizado(lista_):\n",
        "  if lista_ == []:\n",
        "    set_min = 0\n",
        "  else:\n",
        "    set_min = lista_[0]\n",
        "    for i in lista_:\n",
        "      if i < set_min:\n",
        "        set_min = i\n",
        "    return set_min\n",
        "  \n",
        "  ####Best case"
      ],
      "execution_count": 73,
      "outputs": []
    },
    {
      "cell_type": "code",
      "metadata": {
        "colab": {
          "base_uri": "https://localhost:8080/"
        },
        "id": "6TELtig72og2",
        "outputId": "1c379819-b987-4c79-8f5c-b8fd88c3932a"
      },
      "source": [
        "#Caso 1:\n",
        "findMinOptimizado(test1['input']['nums'])\n",
        "print(findMinOptimizado(test1['input']['nums']) == test1['output'])"
      ],
      "execution_count": 74,
      "outputs": [
        {
          "output_type": "stream",
          "text": [
            "True\n"
          ],
          "name": "stdout"
        }
      ]
    },
    {
      "cell_type": "code",
      "metadata": {
        "colab": {
          "base_uri": "https://localhost:8080/"
        },
        "id": "5b5wmsEw3K7H",
        "outputId": "2e9d911c-0767-4570-a4f4-29cc25771bc7"
      },
      "source": [
        "#Caso 2:\n",
        "findMinOptimizado(test2['input']['nums'])\n",
        "print(findMinOptimizado(test2['input']['nums']) == test2['output'])"
      ],
      "execution_count": 75,
      "outputs": [
        {
          "output_type": "stream",
          "text": [
            "True\n"
          ],
          "name": "stdout"
        }
      ]
    },
    {
      "cell_type": "code",
      "metadata": {
        "colab": {
          "base_uri": "https://localhost:8080/"
        },
        "id": "zFWBT1YI3LEp",
        "outputId": "5590b822-7c35-4930-d03e-b8c853a9bb52"
      },
      "source": [
        "#Caso 3:\n",
        "findMinOptimizado(test3['input']['nums'])\n",
        "print(findMinOptimizado(test3['input']['nums']) == test3['output'])"
      ],
      "execution_count": 76,
      "outputs": [
        {
          "output_type": "stream",
          "text": [
            "True\n"
          ],
          "name": "stdout"
        }
      ]
    },
    {
      "cell_type": "code",
      "metadata": {
        "colab": {
          "base_uri": "https://localhost:8080/"
        },
        "id": "3OoK9buY3LRM",
        "outputId": "f51980b1-e875-4d8c-c786-02236552d5b9"
      },
      "source": [
        "#Caso 4:\n",
        "findMinOptimizado(test4['input']['nums'])\n",
        "print(findMinOptimizado(test4['input']['nums']) == test4['output'])"
      ],
      "execution_count": 77,
      "outputs": [
        {
          "output_type": "stream",
          "text": [
            "True\n"
          ],
          "name": "stdout"
        }
      ]
    },
    {
      "cell_type": "code",
      "metadata": {
        "id": "ttz1WJtU3Z0r"
      },
      "source": [
        "def findMinOptimizado2(lista_):\n",
        "  if lista_ == []:\n",
        "    set_min = 0\n",
        "  else:\n",
        "    for index in lista_:\n",
        "      if type(index) == list:\n",
        "        set_min = index[0]\n",
        "        for i in index:\n",
        "          if i < set_min:\n",
        "            set_min = i\n",
        "    return set_min\n",
        "#Aumenta el termino dominante a n^2"
      ],
      "execution_count": 82,
      "outputs": []
    },
    {
      "cell_type": "code",
      "metadata": {
        "colab": {
          "base_uri": "https://localhost:8080/"
        },
        "id": "Wl3X2scN3h6Z",
        "outputId": "75cff655-bd3b-4896-a8e2-7e66c712826b"
      },
      "source": [
        "#Caso 5:\n",
        "findMinOptimizado2(test5['input']['nums'])\n",
        "print(findMinOptimizado2(test5['input']['nums']) == test5['output'])"
      ],
      "execution_count": 83,
      "outputs": [
        {
          "output_type": "stream",
          "text": [
            "True\n"
          ],
          "name": "stdout"
        }
      ]
    }
  ]
}
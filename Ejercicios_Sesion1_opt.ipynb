{
  "nbformat": 4,
  "nbformat_minor": 0,
  "metadata": {
    "colab": {
      "name": "Ejercicios_Sesion1_opt.ipynb",
      "provenance": []
    },
    "kernelspec": {
      "name": "python3",
      "display_name": "Python 3"
    },
    "language_info": {
      "name": "python"
    }
  },
  "cells": [
    {
      "cell_type": "code",
      "metadata": {
        "colab": {
          "base_uri": "https://localhost:8080/"
        },
        "id": "AYJPCWhLBRP-",
        "outputId": "b51d2b44-255f-48ea-a1fe-9095b4ccca9e"
      },
      "source": [
        "lista_1 = [1,2,3,4,5,6,6, [2,4,5,6,6,5,4,3,2,1,5,6,7,8,9], 'hola', 45]\n",
        "\n",
        "def get_values_mix_list(lista_1):\n",
        "\n",
        " for index in range (0, len(lista_1)-1):\n",
        "   if type(lista_1[index]) == list:\n",
        "     val = lista_1[index]\n",
        "     a=[]\n",
        "     for i in range(0, len(val)):\n",
        "       if val[i] < 7:\n",
        "         a.append(val[i])\n",
        " return a\n",
        " \n",
        "\n",
        "respuesta=get_values_mix_list(lista_1)\n",
        "respuesta"
      ],
      "execution_count": null,
      "outputs": [
        {
          "output_type": "execute_result",
          "data": {
            "text/plain": [
              "[2, 4, 5, 6, 6, 5, 4, 3, 2, 1, 5, 6]"
            ]
          },
          "metadata": {
            "tags": []
          },
          "execution_count": 4
        }
      ]
    },
    {
      "cell_type": "code",
      "metadata": {
        "colab": {
          "base_uri": "https://localhost:8080/"
        },
        "id": "Tuqpo1nzIHGt",
        "outputId": "b51b2c39-3097-411c-bb5f-dbfbefa84a7d"
      },
      "source": [
        "def create_dict(respuesta):\n",
        "  get_dict={}\n",
        "  i=range(len(respuesta))\n",
        "  for j in i:\n",
        "    get_dict[j]=respuesta[j]\n",
        "  return get_dict\n",
        "\n",
        "diccionario_result=create_dict(respuesta)\n",
        "diccionario_result"
      ],
      "execution_count": null,
      "outputs": [
        {
          "output_type": "execute_result",
          "data": {
            "text/plain": [
              "{0: 2, 1: 4, 2: 5, 3: 6, 4: 6, 5: 5, 6: 4, 7: 3, 8: 2, 9: 1, 10: 5, 11: 6}"
            ]
          },
          "metadata": {
            "tags": []
          },
          "execution_count": 22
        }
      ]
    },
    {
      "cell_type": "code",
      "metadata": {
        "id": "dkmDGmzNKsnc"
      },
      "source": [
        "\n",
        "cognitive_response = [\n",
        "  {\n",
        "    \"rectangle\": {\n",
        "      \"x\": 6,\n",
        "      \"y\": 390,\n",
        "      \"w\": 48,\n",
        "      \"h\": 40\n",
        "    },\n",
        "    \"object\": \"footwear\",\n",
        "    \"confidence\": 0.513\n",
        "  },\n",
        "  {\n",
        "    \"rectangle\": {\n",
        "      \"x\": 104,\n",
        "      \"y\": 104,\n",
        "      \"w\": 127,\n",
        "      \"h\": 323\n",
        "    },\n",
        "    \"object\": \"person\",\n",
        "    \"confidence\": 0.763\n",
        "  },\n",
        "  {\n",
        "    \"rectangle\": {\n",
        "      \"x\": 174,\n",
        "      \"y\": 236,\n",
        "      \"w\": 113,\n",
        "      \"h\": 74\n",
        "    },\n",
        "    \"object\": \"Laptop\",\n",
        "    \"parent\": {\n",
        "      \"object\": \"computer\",\n",
        "      \"confidence\": 0.56\n",
        "    },\n",
        "    \"confidence\": 0.553\n",
        "  },\n",
        "  {\n",
        "    \"rectangle\": {\n",
        "      \"x\": 351,\n",
        "      \"y\": 331,\n",
        "      \"w\": 154,\n",
        "      \"h\": 99\n",
        "    },\n",
        "    \"object\": \"seating\",\n",
        "    \"confidence\": 0.525\n",
        "  },\n",
        "  {\n",
        "    \"rectangle\": {\n",
        "      \"x\": 0,\n",
        "      \"y\": 101,\n",
        "      \"w\": 174,\n",
        "      \"h\": 329\n",
        "    },\n",
        "    \"object\": \"person\",\n",
        "    \"confidence\": 0.855\n",
        "  },\n",
        "  {\n",
        "    \"rectangle\": {\n",
        "      \"x\": 223,\n",
        "      \"y\": 99,\n",
        "      \"w\": 199,\n",
        "      \"h\": 322\n",
        "    },\n",
        "    \"object\": \"person\",\n",
        "    \"confidence\": 0.725\n",
        "  },\n",
        "  {\n",
        "    \"rectangle\": {\n",
        "      \"x\": 154,\n",
        "      \"y\": 191,\n",
        "      \"w\": 387,\n",
        "      \"h\": 218\n",
        "    },\n",
        "    \"object\": \"seating\",\n",
        "    \"confidence\": 0.679\n",
        "  },\n",
        "  {\n",
        "    \"rectangle\": {\n",
        "      \"x\": 111,\n",
        "      \"y\": 275,\n",
        "      \"w\": 264,\n",
        "      \"h\": 151\n",
        "    },\n",
        "    \"object\": \"table\",\n",
        "    \"confidence\": 0.601\n",
        "  }\n",
        "]"
      ],
      "execution_count": 1,
      "outputs": []
    },
    {
      "cell_type": "code",
      "metadata": {
        "id": "i7qeNGXvP-DA"
      },
      "source": [
        "lista_vacia=[]\n",
        "for i in range (0,len(cognitive_response)):\n",
        "  lista_vacia.append(cognitive_response[i][\"object\"])"
      ],
      "execution_count": 7,
      "outputs": []
    },
    {
      "cell_type": "code",
      "metadata": {
        "colab": {
          "base_uri": "https://localhost:8080/"
        },
        "id": "3CNoJdm8QE-5",
        "outputId": "eff53df3-b5b7-4473-b0f4-6b8afe50f8da"
      },
      "source": [
        "lista_vacia"
      ],
      "execution_count": 8,
      "outputs": [
        {
          "output_type": "execute_result",
          "data": {
            "text/plain": [
              "['footwear',\n",
              " 'person',\n",
              " 'Laptop',\n",
              " 'seating',\n",
              " 'person',\n",
              " 'person',\n",
              " 'seating',\n",
              " 'table']"
            ]
          },
          "metadata": {
            "tags": []
          },
          "execution_count": 8
        }
      ]
    },
    {
      "cell_type": "code",
      "metadata": {
        "id": "O0tXWHFeRQkj"
      },
      "source": [
        ""
      ],
      "execution_count": null,
      "outputs": []
    }
  ]
}
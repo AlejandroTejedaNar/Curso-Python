{
  "nbformat": 4,
  "nbformat_minor": 0,
  "metadata": {
    "colab": {
      "name": "Clase28-29/07/21",
      "provenance": [],
      "collapsed_sections": []
    },
    "kernelspec": {
      "name": "python3",
      "display_name": "Python 3"
    },
    "language_info": {
      "name": "python"
    }
  },
  "cells": [
    {
      "cell_type": "markdown",
      "metadata": {
        "id": "fK3o2h8AOSt6"
      },
      "source": [
        "#**Análisis de algoritmos**"
      ]
    },
    {
      "cell_type": "code",
      "metadata": {
        "id": "kVA5PgqHOPFn",
        "colab": {
          "base_uri": "https://localhost:8080/"
        },
        "outputId": "149af5ff-9cde-49f5-cbc0-f937a3b7dbdb"
      },
      "source": [
        "a = 5 #------1\n",
        "b = 6 #------1\n",
        "c = 10 #------1\n",
        "n=3\n",
        "for i in range (n): #------n\n",
        "  for j in range (n): #------n*n\n",
        "    x = i*i #------n*n\n",
        "    y = j*j #------n*n\n",
        "    z = i*j #------n*n\n",
        "for k in range (n): #------n\n",
        "  w = k*k #------n\n",
        "  s = 3*k #------n\n",
        "print(c) #------1\n",
        "\n",
        "#T(n)= 3 + 3n^2 + 2n + 1 = 3n^2 + 2n + 4\n",
        "#Término dominante en notación Big O es: O(n^2)"
      ],
      "execution_count": 67,
      "outputs": [
        {
          "output_type": "stream",
          "text": [
            "10\n"
          ],
          "name": "stdout"
        }
      ]
    },
    {
      "cell_type": "markdown",
      "metadata": {
        "id": "wTBGYI6tTguY"
      },
      "source": [
        "#**Determinar el término dominante**\n",
        "\n"
      ]
    },
    {
      "cell_type": "code",
      "metadata": {
        "id": "B_gmM7JeTYrb"
      },
      "source": [
        "a = 1 #------1\n",
        "b = 3 #------1\n",
        "c = 2 #------1\n",
        "if a < b:    #------1\n",
        "  print('Ok')\n",
        "else: #------1\n",
        "  prinf('False')\n",
        "#T(n)=5\n",
        "#O(1)\n",
        "\n",
        "for i in (2): #------1\n"
      ],
      "execution_count": null,
      "outputs": []
    },
    {
      "cell_type": "code",
      "metadata": {
        "id": "zxegLSh7UhFx"
      },
      "source": [
        "#Notación dominante "
      ],
      "execution_count": null,
      "outputs": []
    },
    {
      "cell_type": "code",
      "metadata": {
        "id": "d5OfJKWXVjnn",
        "colab": {
          "base_uri": "https://localhost:8080/"
        },
        "outputId": "4e9bc7fb-afad-48b4-be4b-0c10c064e792"
      },
      "source": [
        "array_a = [1,2,3,4,5,6,7,8,9,10]\n",
        "array_b = [1,2,3,4,5,6,7,8,9,10,11]\n",
        "for i in range (len(array_a)): #--Orden A\n",
        "  for j in range (len(array_b)): #--Orden B\n",
        "    print (i)\n",
        "    print (j)\n",
        "\n",
        "\n",
        "#T(n)=(A*B)+2\n",
        "#O(A*B)"
      ],
      "execution_count": 65,
      "outputs": [
        {
          "output_type": "stream",
          "text": [
            "0\n",
            "0\n",
            "0\n",
            "1\n",
            "0\n",
            "2\n",
            "0\n",
            "3\n",
            "0\n",
            "4\n",
            "0\n",
            "5\n",
            "0\n",
            "6\n",
            "0\n",
            "7\n",
            "0\n",
            "8\n",
            "0\n",
            "9\n",
            "0\n",
            "10\n",
            "1\n",
            "0\n",
            "1\n",
            "1\n",
            "1\n",
            "2\n",
            "1\n",
            "3\n",
            "1\n",
            "4\n",
            "1\n",
            "5\n",
            "1\n",
            "6\n",
            "1\n",
            "7\n",
            "1\n",
            "8\n",
            "1\n",
            "9\n",
            "1\n",
            "10\n",
            "2\n",
            "0\n",
            "2\n",
            "1\n",
            "2\n",
            "2\n",
            "2\n",
            "3\n",
            "2\n",
            "4\n",
            "2\n",
            "5\n",
            "2\n",
            "6\n",
            "2\n",
            "7\n",
            "2\n",
            "8\n",
            "2\n",
            "9\n",
            "2\n",
            "10\n",
            "3\n",
            "0\n",
            "3\n",
            "1\n",
            "3\n",
            "2\n",
            "3\n",
            "3\n",
            "3\n",
            "4\n",
            "3\n",
            "5\n",
            "3\n",
            "6\n",
            "3\n",
            "7\n",
            "3\n",
            "8\n",
            "3\n",
            "9\n",
            "3\n",
            "10\n",
            "4\n",
            "0\n",
            "4\n",
            "1\n",
            "4\n",
            "2\n",
            "4\n",
            "3\n",
            "4\n",
            "4\n",
            "4\n",
            "5\n",
            "4\n",
            "6\n",
            "4\n",
            "7\n",
            "4\n",
            "8\n",
            "4\n",
            "9\n",
            "4\n",
            "10\n",
            "5\n",
            "0\n",
            "5\n",
            "1\n",
            "5\n",
            "2\n",
            "5\n",
            "3\n",
            "5\n",
            "4\n",
            "5\n",
            "5\n",
            "5\n",
            "6\n",
            "5\n",
            "7\n",
            "5\n",
            "8\n",
            "5\n",
            "9\n",
            "5\n",
            "10\n",
            "6\n",
            "0\n",
            "6\n",
            "1\n",
            "6\n",
            "2\n",
            "6\n",
            "3\n",
            "6\n",
            "4\n",
            "6\n",
            "5\n",
            "6\n",
            "6\n",
            "6\n",
            "7\n",
            "6\n",
            "8\n",
            "6\n",
            "9\n",
            "6\n",
            "10\n",
            "7\n",
            "0\n",
            "7\n",
            "1\n",
            "7\n",
            "2\n",
            "7\n",
            "3\n",
            "7\n",
            "4\n",
            "7\n",
            "5\n",
            "7\n",
            "6\n",
            "7\n",
            "7\n",
            "7\n",
            "8\n",
            "7\n",
            "9\n",
            "7\n",
            "10\n",
            "8\n",
            "0\n",
            "8\n",
            "1\n",
            "8\n",
            "2\n",
            "8\n",
            "3\n",
            "8\n",
            "4\n",
            "8\n",
            "5\n",
            "8\n",
            "6\n",
            "8\n",
            "7\n",
            "8\n",
            "8\n",
            "8\n",
            "9\n",
            "8\n",
            "10\n",
            "9\n",
            "0\n",
            "9\n",
            "1\n",
            "9\n",
            "2\n",
            "9\n",
            "3\n",
            "9\n",
            "4\n",
            "9\n",
            "5\n",
            "9\n",
            "6\n",
            "9\n",
            "7\n",
            "9\n",
            "8\n",
            "9\n",
            "9\n",
            "9\n",
            "10\n"
          ],
          "name": "stdout"
        }
      ]
    },
    {
      "cell_type": "code",
      "metadata": {
        "colab": {
          "base_uri": "https://localhost:8080/"
        },
        "id": "MiarKxQAWYmN",
        "outputId": "6f8c3c72-2dd7-405d-aa2a-8c568913bee7"
      },
      "source": [
        "import time\n",
        "\n",
        "inicio = time.time()\n",
        "\n",
        "lista_anidada = [[1,2],[3,4],[5,6],[7,8],[7,9],[0,2],[0,5],[20,11]] #--1\n",
        "\n",
        "for i in range(0,len(lista_anidada)): #--A\n",
        "  for j in range(0,len(lista_anidada[0])):\n",
        "    if lista_anidada[i][j] == 4:\n",
        "      print('El valor cuatro se encuentra en nuestra lista anidada') #--A*B\n",
        "\n",
        "fin =time.time()\n",
        "print(fin-inicio)\n",
        "#T(n)=2(A*B)+1\n",
        "#O(A*B)"
      ],
      "execution_count": 63,
      "outputs": [
        {
          "output_type": "stream",
          "text": [
            "El valor cuatro se encuentra en nuestra lista anidada\n",
            "0.0003364086151123047\n"
          ],
          "name": "stdout"
        }
      ]
    },
    {
      "cell_type": "code",
      "metadata": {
        "id": "bRIPdHNRd76o"
      },
      "source": [
        "lista = [5,4,2,1,0]\n",
        "\n",
        "def findMin(alist):\n",
        "  minimo = alist[0]\n",
        "  for i in alist:\n",
        "    valor_min= True\n",
        "    for j in alist:\n",
        "      if i > j :\n",
        "        valor_min = False\n",
        "    if valor_min:\n",
        "      minimo = i\n",
        "  return minimo\n",
        "  #Worst case\n",
        "  #O(n^2)"
      ],
      "execution_count": null,
      "outputs": []
    },
    {
      "cell_type": "code",
      "metadata": {
        "colab": {
          "base_uri": "https://localhost:8080/"
        },
        "id": "Dr9ATIIKfmho",
        "outputId": "0964b59a-b339-4ee5-e490-62286cca85d2"
      },
      "source": [
        "print (findMin(lista))"
      ],
      "execution_count": null,
      "outputs": [
        {
          "output_type": "stream",
          "text": [
            "0\n"
          ],
          "name": "stdout"
        }
      ]
    },
    {
      "cell_type": "code",
      "metadata": {
        "id": "33Hg30m_Twn_"
      },
      "source": [
        "def findMinOptimizado(lista_):\n",
        "  set_min=lista_[0]\n",
        "  for i in lista_:\n",
        "    if i < set_min:\n",
        "      set_min = i\n",
        "  return set_min\n",
        "#Best case\n",
        "#O(n)"
      ],
      "execution_count": null,
      "outputs": []
    },
    {
      "cell_type": "code",
      "metadata": {
        "colab": {
          "base_uri": "https://localhost:8080/"
        },
        "id": "aFYanWTrV0wj",
        "outputId": "bb33a631-112c-426c-dee4-a46bfb22df73"
      },
      "source": [
        "findMinOptimizado(lista)"
      ],
      "execution_count": null,
      "outputs": [
        {
          "output_type": "execute_result",
          "data": {
            "text/plain": [
              "0"
            ]
          },
          "metadata": {
            "tags": []
          },
          "execution_count": 16
        }
      ]
    },
    {
      "cell_type": "code",
      "metadata": {
        "id": "nssP6XH-W8xa"
      },
      "source": [
        "def buble(listaa):\n",
        "  for steps in range (len(listaa)-1,0,-1):\n",
        "    for i in range (steps):\n",
        "      if listaa[i] > listaa[i+1]:\n",
        "        temp = listaa[i]\n",
        "        listaa[i]=listaa[i+1]\n",
        "        listaa[i+1]=temp\n",
        "  return listaa\n",
        "\n",
        "#Worst case\n",
        "#Notación Big-O = O(n^2)"
      ],
      "execution_count": null,
      "outputs": []
    },
    {
      "cell_type": "code",
      "metadata": {
        "colab": {
          "base_uri": "https://localhost:8080/"
        },
        "id": "K9YdcxVDeDUR",
        "outputId": "421ae51c-5123-4ea1-f0f5-691e9ba8035f"
      },
      "source": [
        "buble([1,8,6,4,6,3,2,2])"
      ],
      "execution_count": null,
      "outputs": [
        {
          "output_type": "execute_result",
          "data": {
            "text/plain": [
              "[1, 2, 2, 3, 4, 6, 6, 8]"
            ]
          },
          "metadata": {
            "tags": []
          },
          "execution_count": 26
        }
      ]
    },
    {
      "cell_type": "code",
      "metadata": {
        "id": "q50WN3yLiDln"
      },
      "source": [
        "def sortedList(size_of_array):\n",
        "  import random\n",
        "  random_list=[]\n",
        "  for i in range (0,size_of_array):\n",
        "    n = random.randint(1,100)\n",
        "    random_list.append(n)\n",
        "  return random_list"
      ],
      "execution_count": null,
      "outputs": []
    },
    {
      "cell_type": "code",
      "metadata": {
        "colab": {
          "base_uri": "https://localhost:8080/"
        },
        "id": "tAepzABEioRJ",
        "outputId": "17b66e25-d544-4daf-8c75-99e3e9643422"
      },
      "source": [
        "sortedList(34)"
      ],
      "execution_count": null,
      "outputs": [
        {
          "output_type": "execute_result",
          "data": {
            "text/plain": [
              "[30,\n",
              " 96,\n",
              " 41,\n",
              " 1,\n",
              " 33,\n",
              " 67,\n",
              " 64,\n",
              " 97,\n",
              " 31,\n",
              " 47,\n",
              " 54,\n",
              " 66,\n",
              " 12,\n",
              " 94,\n",
              " 86,\n",
              " 20,\n",
              " 44,\n",
              " 34,\n",
              " 89,\n",
              " 25,\n",
              " 4,\n",
              " 79,\n",
              " 94,\n",
              " 7,\n",
              " 65,\n",
              " 2,\n",
              " 19,\n",
              " 1,\n",
              " 53,\n",
              " 89,\n",
              " 96,\n",
              " 4,\n",
              " 48,\n",
              " 4]"
            ]
          },
          "metadata": {
            "tags": []
          },
          "execution_count": 39
        }
      ]
    },
    {
      "cell_type": "code",
      "metadata": {
        "id": "xb5zQH0RisjH"
      },
      "source": [
        "def bubleOpt(wea):\n",
        "  swapped = True\n",
        "  step = len(wea)-1\n",
        "  while step > 0 and swapped:\n",
        "    swapped = False\n",
        "    for i in range (step):\n",
        "      if wea[i] > wea [i+1]:\n",
        "        swapped = True\n",
        "        tempo = wea[i]\n",
        "        wea[i]=wea[i+1]\n",
        "        wea[i+1]=tempo\n",
        "    step=step-1\n",
        "  return wea"
      ],
      "execution_count": null,
      "outputs": []
    },
    {
      "cell_type": "code",
      "metadata": {
        "colab": {
          "base_uri": "https://localhost:8080/"
        },
        "id": "kHxGkzJ6mJ46",
        "outputId": "4fbfcb9f-92a0-472f-e7b8-0e11e9b33686"
      },
      "source": [
        "bubleOpt(sortedList(34))"
      ],
      "execution_count": null,
      "outputs": [
        {
          "output_type": "execute_result",
          "data": {
            "text/plain": [
              "[1,\n",
              " 3,\n",
              " 11,\n",
              " 13,\n",
              " 14,\n",
              " 17,\n",
              " 19,\n",
              " 22,\n",
              " 22,\n",
              " 31,\n",
              " 32,\n",
              " 37,\n",
              " 39,\n",
              " 51,\n",
              " 53,\n",
              " 53,\n",
              " 53,\n",
              " 57,\n",
              " 58,\n",
              " 62,\n",
              " 66,\n",
              " 66,\n",
              " 67,\n",
              " 69,\n",
              " 70,\n",
              " 74,\n",
              " 78,\n",
              " 79,\n",
              " 79,\n",
              " 85,\n",
              " 91,\n",
              " 95,\n",
              " 96,\n",
              " 98]"
            ]
          },
          "metadata": {
            "tags": []
          },
          "execution_count": 46
        }
      ]
    },
    {
      "cell_type": "code",
      "metadata": {
        "id": "ZtvucG9YmPds"
      },
      "source": [
        ""
      ],
      "execution_count": null,
      "outputs": []
    }
  ]
}
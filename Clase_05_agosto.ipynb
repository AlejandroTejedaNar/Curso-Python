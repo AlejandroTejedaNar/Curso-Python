{
  "nbformat": 4,
  "nbformat_minor": 0,
  "metadata": {
    "colab": {
      "name": "Clase 05 agosto",
      "provenance": [],
      "collapsed_sections": []
    },
    "kernelspec": {
      "name": "python3",
      "display_name": "Python 3"
    },
    "language_info": {
      "name": "python"
    }
  },
  "cells": [
    {
      "cell_type": "code",
      "metadata": {
        "id": "b-Dty7j5VTvH"
      },
      "source": [
        "def indexedSequentialSearch(items, value, group_division):\n",
        "  elements = [0]*20\n",
        "  indices = [0]*20\n",
        "  i,j,index,end = 0,0,0,0\n",
        "  flag = 0\n",
        "  for i in range(0,len(items),group_division):\n",
        "    elements[index] = items[i]\n",
        "    indices[index] = i\n",
        "    index += 1\n",
        "  if value < elements[index]:\n",
        "    print('No se encuentra el valor.')\n",
        "    return exit(0)\n",
        "  else:\n",
        "    for i in range(0,index + 1):\n",
        "      if value <= elements[i]:\n",
        "        start = indices[i-1]\n",
        "        end = indices[i]\n",
        "        flag = 1\n",
        "        break\n",
        "  if flag == 0:\n",
        "    start = indices[i-1]\n",
        "    end = len(items)\n",
        "  for i in range(start,end+1):\n",
        "    if value == items[i]:\n",
        "      j = 1\n",
        "      break\n",
        "  if j == 1:\n",
        "    print('Mi valor fue encontrado en la posición: ',i)\n",
        "  else:\n",
        "    print('No se encuentra.')"
      ],
      "execution_count": null,
      "outputs": []
    },
    {
      "cell_type": "code",
      "metadata": {
        "colab": {
          "base_uri": "https://localhost:8080/"
        },
        "id": "hluB1z5dfxsc",
        "outputId": "55d41231-a14d-4c95-f3e2-56e3fa06a254"
      },
      "source": [
        "items=[12,15,17,21,28,36,57,81,99]\n",
        "indexedSequentialSearch(items,12,3)"
      ],
      "execution_count": null,
      "outputs": [
        {
          "output_type": "stream",
          "text": [
            "Mi valor fue encontrado en la posición:  0\n"
          ],
          "name": "stdout"
        }
      ]
    },
    {
      "cell_type": "code",
      "metadata": {
        "id": "1vI7gZg5fRyT"
      },
      "source": [
        ""
      ],
      "execution_count": null,
      "outputs": []
    }
  ]
}
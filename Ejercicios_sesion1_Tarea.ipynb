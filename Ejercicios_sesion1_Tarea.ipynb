{
  "nbformat": 4,
  "nbformat_minor": 0,
  "metadata": {
    "colab": {
      "name": "Ejercicios_sesion1_Tarea",
      "provenance": []
    },
    "kernelspec": {
      "name": "python3",
      "display_name": "Python 3"
    },
    "language_info": {
      "name": "python"
    }
  },
  "cells": [
    {
      "cell_type": "markdown",
      "metadata": {
        "id": "oXdsGW8QinyJ"
      },
      "source": [
        "#**Ejercicio 1:**"
      ]
    },
    {
      "cell_type": "code",
      "metadata": {
        "colab": {
          "base_uri": "https://localhost:8080/"
        },
        "id": "MBaUkQvgurrv",
        "outputId": "361a6a70-0f11-418b-a177-423d7162933a"
      },
      "source": [
        "lista_1 = [1,2,3,4,5,6,6, [2,4,5,6,6,5,4,3,2,1,5,6,7,8,9], 'hola', 45]\n",
        "\n",
        "def get_values_mix_list(lista_1):\n",
        "\n",
        " for index in range (0, len(lista_1)-1):\n",
        "   if type(lista_1[index]) == list:\n",
        "     val = lista_1[index]\n",
        " return val\n",
        "\n",
        "lista_2=get_values_mix_list(lista_1)\n",
        "a=[]\n",
        "\n",
        "def get_list(lista_2):\n",
        "  for i in range(0, len(lista_2)):\n",
        "    if lista_2[i] < 7:\n",
        "      a.append(lista_2[i])\n",
        "  return a\n",
        "\n",
        "respuesta=get_list(lista_2)\n",
        "respuesta"
      ],
      "execution_count": null,
      "outputs": [
        {
          "output_type": "execute_result",
          "data": {
            "text/plain": [
              "[2, 4, 5, 6, 6, 5, 4, 3, 2, 1, 5, 6]"
            ]
          },
          "metadata": {
            "tags": []
          },
          "execution_count": 30
        }
      ]
    },
    {
      "cell_type": "markdown",
      "metadata": {
        "id": "KVvg-g6pitud"
      },
      "source": [
        "#**Ejercicio 2:**"
      ]
    },
    {
      "cell_type": "code",
      "metadata": {
        "id": "8N_WtEXqIbCR",
        "colab": {
          "base_uri": "https://localhost:8080/"
        },
        "outputId": "aa0baaa4-c28f-4239-f852-edd0e87b43e2"
      },
      "source": [
        "def create_dict(respuesta):\n",
        "  get_dict={}\n",
        "  for i in range(len(respuesta)):\n",
        "    for j in respuesta:\n",
        "      get_dict[i]=j\n",
        "  return get_dict\n",
        "\n",
        "diccionario_result=create_dict(respuesta)\n",
        "diccionario_result"
      ],
      "execution_count": null,
      "outputs": [
        {
          "output_type": "execute_result",
          "data": {
            "text/plain": [
              "{0: 6, 1: 6, 2: 6, 3: 6, 4: 6, 5: 6, 6: 6, 7: 6, 8: 6, 9: 6, 10: 6, 11: 6}"
            ]
          },
          "metadata": {
            "tags": []
          },
          "execution_count": 23
        }
      ]
    },
    {
      "cell_type": "markdown",
      "metadata": {
        "id": "XOjYkWmeixGV"
      },
      "source": [
        "#**Ejercicio 3:**"
      ]
    },
    {
      "cell_type": "code",
      "metadata": {
        "colab": {
          "base_uri": "https://localhost:8080/"
        },
        "id": "T2k4AsHYimNg",
        "outputId": "23a734b9-2d50-4590-c984-442e88937be4"
      },
      "source": [
        "cognitive_response = [\n",
        "  {\n",
        "    \"rectangle\": {\n",
        "      \"x\": 6,\n",
        "      \"y\": 390,\n",
        "      \"w\": 48,\n",
        "      \"h\": 40\n",
        "    },\n",
        "    \"object\": \"footwear\",\n",
        "    \"confidence\": 0.513\n",
        "  },\n",
        "  {\n",
        "    \"rectangle\": {\n",
        "      \"x\": 104,\n",
        "      \"y\": 104,\n",
        "      \"w\": 127,\n",
        "      \"h\": 323\n",
        "    },\n",
        "    \"object\": \"person\",\n",
        "    \"confidence\": 0.763\n",
        "  },\n",
        "  {\n",
        "    \"rectangle\": {\n",
        "      \"x\": 174,\n",
        "      \"y\": 236,\n",
        "      \"w\": 113,\n",
        "      \"h\": 74\n",
        "    },\n",
        "    \"object\": \"Laptop\",\n",
        "    \"parent\": {\n",
        "      \"object\": \"computer\",\n",
        "      \"confidence\": 0.56\n",
        "    },\n",
        "    \"confidence\": 0.553\n",
        "  },\n",
        "  {\n",
        "    \"rectangle\": {\n",
        "      \"x\": 351,\n",
        "      \"y\": 331,\n",
        "      \"w\": 154,\n",
        "      \"h\": 99\n",
        "    },\n",
        "    \"object\": \"seating\",\n",
        "    \"confidence\": 0.525\n",
        "  },\n",
        "  {\n",
        "    \"rectangle\": {\n",
        "      \"x\": 0,\n",
        "      \"y\": 101,\n",
        "      \"w\": 174,\n",
        "      \"h\": 329\n",
        "    },\n",
        "    \"object\": \"person\",\n",
        "    \"confidence\": 0.855\n",
        "  },\n",
        "  {\n",
        "    \"rectangle\": {\n",
        "      \"x\": 223,\n",
        "      \"y\": 99,\n",
        "      \"w\": 199,\n",
        "      \"h\": 322\n",
        "    },\n",
        "    \"object\": \"person\",\n",
        "    \"confidence\": 0.725\n",
        "  },\n",
        "  {\n",
        "    \"rectangle\": {\n",
        "      \"x\": 154,\n",
        "      \"y\": 191,\n",
        "      \"w\": 387,\n",
        "      \"h\": 218\n",
        "    },\n",
        "    \"object\": \"seating\",\n",
        "    \"confidence\": 0.679\n",
        "  },\n",
        "  {\n",
        "    \"rectangle\": {\n",
        "      \"x\": 111,\n",
        "      \"y\": 275,\n",
        "      \"w\": 264,\n",
        "      \"h\": 151\n",
        "    },\n",
        "    \"object\": \"table\",\n",
        "    \"confidence\": 0.601\n",
        "  }\n",
        "]\n",
        "\n",
        "list_objects=[]\n",
        "\n",
        "def get_object(fromlist):\n",
        "  for i in fromlist:\n",
        "    for j in i:\n",
        "      if j == 'object':\n",
        "        list_objects.append(i.get(j))\n",
        "  return list_objects\n",
        "\n",
        "cosa = get_object(cognitive_response)\n",
        "cosa"
      ],
      "execution_count": null,
      "outputs": [
        {
          "output_type": "execute_result",
          "data": {
            "text/plain": [
              "['footwear',\n",
              " 'person',\n",
              " 'Laptop',\n",
              " 'seating',\n",
              " 'person',\n",
              " 'person',\n",
              " 'seating',\n",
              " 'table']"
            ]
          },
          "metadata": {
            "tags": []
          },
          "execution_count": 61
        }
      ]
    }
  ]
}
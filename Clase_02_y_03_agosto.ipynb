{
  "nbformat": 4,
  "nbformat_minor": 0,
  "metadata": {
    "colab": {
      "name": "Clase 02 y 03 agosto.ipynb",
      "provenance": [],
      "collapsed_sections": []
    },
    "kernelspec": {
      "name": "python3",
      "display_name": "Python 3"
    },
    "language_info": {
      "name": "python"
    }
  },
  "cells": [
    {
      "cell_type": "code",
      "metadata": {
        "id": "X2jzvpNrMzBe"
      },
      "source": [
        "def factorial(n):\n",
        "  if n == 0 or n == 1:\n",
        "    return 1\n",
        "  else:\n",
        "    return n * factorial(n-1)"
      ],
      "execution_count": null,
      "outputs": []
    },
    {
      "cell_type": "code",
      "metadata": {
        "colab": {
          "base_uri": "https://localhost:8080/"
        },
        "id": "0DbUmF42N7zb",
        "outputId": "13cc259c-32a8-426b-b9ed-5250cd5d0145"
      },
      "source": [
        "factorial(3)"
      ],
      "execution_count": null,
      "outputs": [
        {
          "output_type": "execute_result",
          "data": {
            "text/plain": [
              "6"
            ]
          },
          "metadata": {
            "tags": []
          },
          "execution_count": 38
        }
      ]
    },
    {
      "cell_type": "code",
      "metadata": {
        "id": "BzH5B7YgRwmy"
      },
      "source": [
        "def particion(items,low,high):\n",
        "  pivote = items[high]\n",
        "  i = low\n",
        "  for j in range(low, high):\n",
        "    if items[j] < pivote:\n",
        "      items[i], items[j] = items [j], items[i]\n",
        "      i += 1\n",
        "  pivot_index = i\n",
        "  items[pivot_index], items[high] = items[high], items[pivot_index]\n",
        "  return pivot_index"
      ],
      "execution_count": null,
      "outputs": []
    },
    {
      "cell_type": "code",
      "metadata": {
        "id": "T9AzkbR9ONhI"
      },
      "source": [
        "def quicksort(items, low, high):\n",
        "  if low < high:\n",
        "    p_index = particion(items, low, high)\n",
        "    quicksort(items, low, p_index - 1) ##Corre por la izquierd; menores al pivote.\n",
        "    quicksort(items, p_index + 1, high) ##Corre por la derecha; mayores al pivote."
      ],
      "execution_count": null,
      "outputs": []
    },
    {
      "cell_type": "code",
      "metadata": {
        "colab": {
          "base_uri": "https://localhost:8080/"
        },
        "id": "8XGc4Z-lG2Nm",
        "outputId": "d685fb53-3785-469a-82ad-db563d2812da"
      },
      "source": [
        "lista_test = [9,5,3,6,1,0,7,8,4,2]\n",
        "high = len(lista_test)-1\n",
        "low = 0\n",
        "quicksort(lista_test, low, high)\n",
        "print(lista_test)"
      ],
      "execution_count": null,
      "outputs": [
        {
          "output_type": "stream",
          "text": [
            "[0, 1, 2, 3, 4, 5, 6, 7, 8, 9]\n"
          ],
          "name": "stdout"
        }
      ]
    },
    {
      "cell_type": "code",
      "metadata": {
        "id": "0GyeW-RBO9yh"
      },
      "source": [
        "def modulo2(x):\n",
        "  if x % 2 != 0:\n",
        "    return True\n",
        "  else:\n",
        "    return False"
      ],
      "execution_count": null,
      "outputs": []
    },
    {
      "cell_type": "code",
      "metadata": {
        "colab": {
          "base_uri": "https://localhost:8080/"
        },
        "id": "TCJUXJRXTBSB",
        "outputId": "2979f48e-ded8-475b-fc60-578be6a45f28"
      },
      "source": [
        "modulo2(7)"
      ],
      "execution_count": null,
      "outputs": [
        {
          "output_type": "execute_result",
          "data": {
            "text/plain": [
              "0"
            ]
          },
          "metadata": {
            "tags": []
          },
          "execution_count": 48
        }
      ]
    },
    {
      "cell_type": "code",
      "metadata": {
        "id": "x8iXn76_TEAU"
      },
      "source": [
        "modulo_par = lambda numero: numero % 2 != 0"
      ],
      "execution_count": null,
      "outputs": []
    },
    {
      "cell_type": "code",
      "metadata": {
        "colab": {
          "base_uri": "https://localhost:8080/"
        },
        "id": "0KWsvRCCTj5k",
        "outputId": "73005e21-87f8-4ee1-c8f8-daab3486d389"
      },
      "source": [
        "modulo_par(7)"
      ],
      "execution_count": null,
      "outputs": [
        {
          "output_type": "execute_result",
          "data": {
            "text/plain": [
              "True"
            ]
          },
          "metadata": {
            "tags": []
          },
          "execution_count": 52
        }
      ]
    },
    {
      "cell_type": "code",
      "metadata": {
        "id": "Pg1A40jvTmQI"
      },
      "source": [
        "suma = lambda x,y: x+y"
      ],
      "execution_count": null,
      "outputs": []
    },
    {
      "cell_type": "code",
      "metadata": {
        "colab": {
          "base_uri": "https://localhost:8080/"
        },
        "id": "QNdZ8rWtUVFD",
        "outputId": "c6072131-a30c-41f5-d8e2-faf844d4ead5"
      },
      "source": [
        "suma(4,5)"
      ],
      "execution_count": null,
      "outputs": [
        {
          "output_type": "execute_result",
          "data": {
            "text/plain": [
              "9"
            ]
          },
          "metadata": {
            "tags": []
          },
          "execution_count": 54
        }
      ]
    },
    {
      "cell_type": "code",
      "metadata": {
        "colab": {
          "base_uri": "https://localhost:8080/"
        },
        "id": "Dc9DPW5DUWps",
        "outputId": "15c7a941-ec6b-4d6e-c96e-1a53c594e18e"
      },
      "source": [
        "type(modulo2)"
      ],
      "execution_count": null,
      "outputs": [
        {
          "output_type": "execute_result",
          "data": {
            "text/plain": [
              "function"
            ]
          },
          "metadata": {
            "tags": []
          },
          "execution_count": 55
        }
      ]
    },
    {
      "cell_type": "code",
      "metadata": {
        "colab": {
          "base_uri": "https://localhost:8080/"
        },
        "id": "AI7yBc1kUZMI",
        "outputId": "d9bd6e60-9300-4548-cacb-da713fd19940"
      },
      "source": [
        "type(modulo_par)"
      ],
      "execution_count": null,
      "outputs": [
        {
          "output_type": "execute_result",
          "data": {
            "text/plain": [
              "function"
            ]
          },
          "metadata": {
            "tags": []
          },
          "execution_count": 56
        }
      ]
    },
    {
      "cell_type": "code",
      "metadata": {
        "id": "JKphQPIyUa-O"
      },
      "source": [
        "funcion_cuadrada = lambda x: True if x^2 > 100 else False ####Expresiones ternarias"
      ],
      "execution_count": null,
      "outputs": []
    },
    {
      "cell_type": "code",
      "metadata": {
        "colab": {
          "base_uri": "https://localhost:8080/"
        },
        "id": "MJB4s3f4Upj3",
        "outputId": "73bfd980-b9f4-4e90-9313-6d5a81fecbaf"
      },
      "source": [
        "funcion_cuadrada(11)"
      ],
      "execution_count": null,
      "outputs": [
        {
          "output_type": "execute_result",
          "data": {
            "text/plain": [
              "False"
            ]
          },
          "metadata": {
            "tags": []
          },
          "execution_count": 63
        }
      ]
    },
    {
      "cell_type": "code",
      "metadata": {
        "colab": {
          "base_uri": "https://localhost:8080/"
        },
        "id": "1kAxFwoaUrvO",
        "outputId": "c150e6d3-d0e6-4fc9-83ab-4d003246d42c"
      },
      "source": [
        "lista_compleja=[1,2,3,4,5,6,7,8]\n",
        "lista_anidada = filter(modulo_par,lista_compleja)\n",
        "list(lista_anidada)"
      ],
      "execution_count": null,
      "outputs": [
        {
          "output_type": "execute_result",
          "data": {
            "text/plain": [
              "[1, 3, 5, 7]"
            ]
          },
          "metadata": {
            "tags": []
          },
          "execution_count": 67
        }
      ]
    },
    {
      "cell_type": "code",
      "metadata": {
        "colab": {
          "base_uri": "https://localhost:8080/"
        },
        "id": "-db_1rCmVFce",
        "outputId": "321a01c1-84b7-4e58-cdd2-c6946f89a90a"
      },
      "source": [
        "lista_compleja2 = [1,2,3,4,5,[1,2,3,4]]\n",
        "lista_anidada2 = filter(lambda x: x if type(x)==list else False, lista_compleja2)\n",
        "list(lista_anidada2)"
      ],
      "execution_count": null,
      "outputs": [
        {
          "output_type": "execute_result",
          "data": {
            "text/plain": [
              "[[1, 2, 3, 4]]"
            ]
          },
          "metadata": {
            "tags": []
          },
          "execution_count": 75
        }
      ]
    },
    {
      "cell_type": "code",
      "metadata": {
        "colab": {
          "base_uri": "https://localhost:8080/"
        },
        "id": "BCtYSe0qXMO_",
        "outputId": "baed1dc5-45c7-48ca-c926-b16ac7b856d7"
      },
      "source": [
        "a = [(1,2),(3,4),(5,6)]\n",
        "b = map(lambda x: x[0]+x[1],a)\n",
        "list(b)"
      ],
      "execution_count": null,
      "outputs": [
        {
          "output_type": "execute_result",
          "data": {
            "text/plain": [
              "[3, 7, 11]"
            ]
          },
          "metadata": {
            "tags": []
          },
          "execution_count": 77
        }
      ]
    },
    {
      "cell_type": "code",
      "metadata": {
        "colab": {
          "base_uri": "https://localhost:8080/"
        },
        "id": "NvWqIoOFZCzT",
        "outputId": "4f3009c0-7e66-4738-cd0e-64e3e875a82a"
      },
      "source": [
        "frutas = ['manzana','naranja','platano','pera']\n",
        "map_object = map(lambda x: x if x[0] =='p' else None, frutas)\n",
        "list(map_object)"
      ],
      "execution_count": null,
      "outputs": [
        {
          "output_type": "execute_result",
          "data": {
            "text/plain": [
              "[None, None, 'platano', 'pera']"
            ]
          },
          "metadata": {
            "tags": []
          },
          "execution_count": 83
        }
      ]
    },
    {
      "cell_type": "code",
      "metadata": {
        "id": "GcqZ8WqAZC7C"
      },
      "source": [
        "from functools import reduce"
      ],
      "execution_count": null,
      "outputs": []
    },
    {
      "cell_type": "code",
      "metadata": {
        "colab": {
          "base_uri": "https://localhost:8080/"
        },
        "id": "QhBocAEYaZ9c",
        "outputId": "2a83bf34-5e90-4ba3-95d8-d95626d319aa"
      },
      "source": [
        "listare = [3,6,8,9,2,8]\n",
        "reduce (lambda a,b: a if a > b else b, listare)"
      ],
      "execution_count": null,
      "outputs": [
        {
          "output_type": "execute_result",
          "data": {
            "text/plain": [
              "9"
            ]
          },
          "metadata": {
            "tags": []
          },
          "execution_count": 86
        }
      ]
    },
    {
      "cell_type": "code",
      "metadata": {
        "colab": {
          "base_uri": "https://localhost:8080/"
        },
        "id": "y8E2SKONb78a",
        "outputId": "d614bdf0-4866-4111-8a68-6e1ed3b88080"
      },
      "source": [
        "reduce(lambda x,y: x+y, listare)"
      ],
      "execution_count": null,
      "outputs": [
        {
          "output_type": "execute_result",
          "data": {
            "text/plain": [
              "36"
            ]
          },
          "metadata": {
            "tags": []
          },
          "execution_count": 87
        }
      ]
    }
  ]
}
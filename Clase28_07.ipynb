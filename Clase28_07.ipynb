{
  "nbformat": 4,
  "nbformat_minor": 0,
  "metadata": {
    "colab": {
      "name": "Clase28/07",
      "provenance": [],
      "collapsed_sections": []
    },
    "kernelspec": {
      "name": "python3",
      "display_name": "Python 3"
    },
    "language_info": {
      "name": "python"
    }
  },
  "cells": [
    {
      "cell_type": "markdown",
      "metadata": {
        "id": "fK3o2h8AOSt6"
      },
      "source": [
        "#**Análisis de algoritmos**"
      ]
    },
    {
      "cell_type": "code",
      "metadata": {
        "id": "kVA5PgqHOPFn"
      },
      "source": [
        "a = 5 #------1\n",
        "b = 6 #------1\n",
        "c = 10 #------1\n",
        "for i in range (n): #------n\n",
        "  for j in range (n): #------n*n\n",
        "    x = i*i #------n*n\n",
        "    y = j*j #------n*n\n",
        "    z = i*j #------n*n\n",
        "for k in range (n): #------n\n",
        "  w = k*k #------n\n",
        "  s = 3*k #------n\n",
        "print(c) #------1\n",
        "\n",
        "#T(n)= 3 + 3n^2 + 2n + 1 = 3n^2 + 2n + 4\n",
        "#Término dominante en notación Big O es: O(n^2)"
      ],
      "execution_count": null,
      "outputs": []
    },
    {
      "cell_type": "markdown",
      "metadata": {
        "id": "wTBGYI6tTguY"
      },
      "source": [
        "#**Determinar el término dominante**\n",
        "\n"
      ]
    },
    {
      "cell_type": "code",
      "metadata": {
        "id": "B_gmM7JeTYrb"
      },
      "source": [
        "a = 1 #------1\n",
        "b = 3 #------1\n",
        "c = 2 #------1\n",
        "if a < b:    #------1\n",
        "  print('Ok')\n",
        "else: #------1\n",
        "  prinf('False')\n",
        "#T(n)=5\n",
        "#O(1)\n",
        "\n",
        "for i in (2): #------1\n"
      ],
      "execution_count": null,
      "outputs": []
    },
    {
      "cell_type": "code",
      "metadata": {
        "id": "zxegLSh7UhFx"
      },
      "source": [
        "#Notación dominante "
      ],
      "execution_count": null,
      "outputs": []
    },
    {
      "cell_type": "code",
      "metadata": {
        "id": "d5OfJKWXVjnn"
      },
      "source": [
        "array_a = [1,2,3,4,5,6,7,8,9,10]\n",
        "array_b = [1,2,3,4,5,6,7,8,9,10,11]\n",
        "for i in ranfe (len(array_a)): #--Orden A\n",
        "  for j in range (len(array_b)): #--Orden B\n",
        "    print (i)\n",
        "    print (j)\n",
        "\n",
        "\n",
        "#T(n)=(A*B)+2\n",
        "#O(A*B)"
      ],
      "execution_count": null,
      "outputs": []
    },
    {
      "cell_type": "code",
      "metadata": {
        "colab": {
          "base_uri": "https://localhost:8080/",
          "height": 248
        },
        "id": "MiarKxQAWYmN",
        "outputId": "81bbfd8d-023d-41e3-b777-972ed7cdf0f1"
      },
      "source": [
        "import time\n",
        "\n",
        "inicio = time.time()\n",
        "\n",
        "lista_anidada = [[1,2],[3,4],[5,6],[7.8],[0,2],[0,5],[20,11]] #--1\n",
        "\n",
        "for i in range(0,len(lista_anidada)): #--A\n",
        "  for j in range(0,len(lista_anidada[0])):\n",
        "    if lista_anidada[i][j] == 4:\n",
        "      print('El valor cuatro se encuentra en nuestra lista anidada') #--A*B\n",
        "\n",
        "fin = time.time()\n",
        "print(fin-inicio)\n",
        "\n",
        "#T(n)=2(A*B)+1\n",
        "#O(A*B)"
      ],
      "execution_count": null,
      "outputs": [
        {
          "output_type": "stream",
          "text": [
            "El valor cuatro se encuentra en nuestra lista anidada\n"
          ],
          "name": "stdout"
        },
        {
          "output_type": "error",
          "ename": "IndexError",
          "evalue": "ignored",
          "traceback": [
            "\u001b[0;31m---------------------------------------------------------------------------\u001b[0m",
            "\u001b[0;31mIndexError\u001b[0m                                Traceback (most recent call last)",
            "\u001b[0;32m<ipython-input-49-1153ac42a4a0>\u001b[0m in \u001b[0;36m<module>\u001b[0;34m()\u001b[0m\n\u001b[1;32m      7\u001b[0m \u001b[0;32mfor\u001b[0m \u001b[0mi\u001b[0m \u001b[0;32min\u001b[0m \u001b[0mrange\u001b[0m\u001b[0;34m(\u001b[0m\u001b[0;36m0\u001b[0m\u001b[0;34m,\u001b[0m\u001b[0mlen\u001b[0m\u001b[0;34m(\u001b[0m\u001b[0mlista_anidada\u001b[0m\u001b[0;34m)\u001b[0m\u001b[0;34m)\u001b[0m\u001b[0;34m:\u001b[0m \u001b[0;31m#--A\u001b[0m\u001b[0;34m\u001b[0m\u001b[0;34m\u001b[0m\u001b[0m\n\u001b[1;32m      8\u001b[0m   \u001b[0;32mfor\u001b[0m \u001b[0mj\u001b[0m \u001b[0;32min\u001b[0m \u001b[0mrange\u001b[0m\u001b[0;34m(\u001b[0m\u001b[0;36m0\u001b[0m\u001b[0;34m,\u001b[0m\u001b[0mlen\u001b[0m\u001b[0;34m(\u001b[0m\u001b[0mlista_anidada\u001b[0m\u001b[0;34m[\u001b[0m\u001b[0;36m0\u001b[0m\u001b[0;34m]\u001b[0m\u001b[0;34m)\u001b[0m\u001b[0;34m)\u001b[0m\u001b[0;34m:\u001b[0m\u001b[0;34m\u001b[0m\u001b[0;34m\u001b[0m\u001b[0m\n\u001b[0;32m----> 9\u001b[0;31m     \u001b[0;32mif\u001b[0m \u001b[0mlista_anidada\u001b[0m\u001b[0;34m[\u001b[0m\u001b[0mi\u001b[0m\u001b[0;34m]\u001b[0m\u001b[0;34m[\u001b[0m\u001b[0mj\u001b[0m\u001b[0;34m]\u001b[0m \u001b[0;34m==\u001b[0m \u001b[0;36m4\u001b[0m\u001b[0;34m:\u001b[0m\u001b[0;34m\u001b[0m\u001b[0;34m\u001b[0m\u001b[0m\n\u001b[0m\u001b[1;32m     10\u001b[0m       \u001b[0mprint\u001b[0m\u001b[0;34m(\u001b[0m\u001b[0;34m'El valor cuatro se encuentra en nuestra lista anidada'\u001b[0m\u001b[0;34m)\u001b[0m \u001b[0;31m#--A*B\u001b[0m\u001b[0;34m\u001b[0m\u001b[0;34m\u001b[0m\u001b[0m\n\u001b[1;32m     11\u001b[0m \u001b[0;34m\u001b[0m\u001b[0m\n",
            "\u001b[0;31mIndexError\u001b[0m: list index out of range"
          ]
        }
      ]
    },
    {
      "cell_type": "code",
      "metadata": {
        "id": "bRIPdHNRd76o"
      },
      "source": [
        "lista = [5,4,2,1,1]\n",
        "\n",
        "def findMin(alist):\n",
        "  minimo = alist[0]\n",
        "  for i in alist:\n",
        "    valor_min= True\n",
        "    for j in alist:\n",
        "      if i > j :\n",
        "        valor_min = False\n",
        "    if valor_min:\n",
        "      minimo = i\n",
        "  return minimo"
      ],
      "execution_count": null,
      "outputs": []
    },
    {
      "cell_type": "code",
      "metadata": {
        "colab": {
          "base_uri": "https://localhost:8080/"
        },
        "id": "Dr9ATIIKfmho",
        "outputId": "31b2f654-297c-4299-c480-99f12cd59044"
      },
      "source": [
        "print (findMin(lista))"
      ],
      "execution_count": null,
      "outputs": [
        {
          "output_type": "stream",
          "text": [
            "1\n"
          ],
          "name": "stdout"
        }
      ]
    }
  ]
}